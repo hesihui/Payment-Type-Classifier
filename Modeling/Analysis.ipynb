{
 "cells": [
  {
   "cell_type": "markdown",
   "metadata": {},
   "source": [
    "# Pay Type Predictor (Classification)"
   ]
  },
  {
   "cell_type": "markdown",
   "metadata": {},
   "source": [
    "The goal of this project is trying to build an algorithm to automatically test if a given payment information description belongs to the following three categories respectively: `is_productive`, `use_salaries`, and `use_hours`. These categories are independent, which means a specific payment can belong to more than one categories. "
   ]
  },
  {
   "cell_type": "code",
   "execution_count": 1,
   "metadata": {
    "scrolled": true
   },
   "outputs": [
    {
     "name": "stdout",
     "output_type": "stream",
     "text": [
      "README.md                 paycode_data.xlsx         paycode_first_clean.xlsx\r\n"
     ]
    }
   ],
   "source": [
    "ls data"
   ]
  },
  {
   "cell_type": "code",
   "execution_count": 2,
   "metadata": {},
   "outputs": [],
   "source": [
    "import pandas as pd\n",
    "import numpy as np\n",
    "import matplotlib.pyplot as plt"
   ]
  },
  {
   "cell_type": "markdown",
   "metadata": {},
   "source": [
    "# Step 1 - Data Preprocessing"
   ]
  },
  {
   "cell_type": "markdown",
   "metadata": {},
   "source": [
    "Read Data: "
   ]
  },
  {
   "cell_type": "code",
   "execution_count": 3,
   "metadata": {
    "scrolled": true
   },
   "outputs": [
    {
     "data": {
      "text/html": [
       "<div>\n",
       "<style scoped>\n",
       "    .dataframe tbody tr th:only-of-type {\n",
       "        vertical-align: middle;\n",
       "    }\n",
       "\n",
       "    .dataframe tbody tr th {\n",
       "        vertical-align: top;\n",
       "    }\n",
       "\n",
       "    .dataframe thead th {\n",
       "        text-align: right;\n",
       "    }\n",
       "</style>\n",
       "<table border=\"1\" class=\"dataframe\">\n",
       "  <thead>\n",
       "    <tr style=\"text-align: right;\">\n",
       "      <th></th>\n",
       "      <th>report_id</th>\n",
       "      <th>pay_type_id</th>\n",
       "      <th>pay_type_description</th>\n",
       "      <th>Total_Dollars</th>\n",
       "      <th>Total_Hours</th>\n",
       "      <th>Hourly Rate</th>\n",
       "      <th>cr255210db1_pay_pay_types.is_productive</th>\n",
       "      <th>cr255210db1_pay_pay_types.use_salaries</th>\n",
       "      <th>cr255210db1_pay_pay_types.use_hours</th>\n",
       "    </tr>\n",
       "  </thead>\n",
       "  <tbody>\n",
       "    <tr>\n",
       "      <th>0</th>\n",
       "      <td>87</td>\n",
       "      <td>101</td>\n",
       "      <td>MISC-REGULAR</td>\n",
       "      <td>93339554.0</td>\n",
       "      <td>2679091.0</td>\n",
       "      <td>34.840009</td>\n",
       "      <td>1</td>\n",
       "      <td>1</td>\n",
       "      <td>1</td>\n",
       "    </tr>\n",
       "    <tr>\n",
       "      <th>1</th>\n",
       "      <td>87</td>\n",
       "      <td>102</td>\n",
       "      <td>MISC-SICK PAY</td>\n",
       "      <td>5258853.0</td>\n",
       "      <td>158087.0</td>\n",
       "      <td>33.265563</td>\n",
       "      <td>0</td>\n",
       "      <td>1</td>\n",
       "      <td>1</td>\n",
       "    </tr>\n",
       "    <tr>\n",
       "      <th>2</th>\n",
       "      <td>87</td>\n",
       "      <td>104</td>\n",
       "      <td>MISC-VACATION</td>\n",
       "      <td>6710429.0</td>\n",
       "      <td>196136.0</td>\n",
       "      <td>34.213143</td>\n",
       "      <td>0</td>\n",
       "      <td>1</td>\n",
       "      <td>1</td>\n",
       "    </tr>\n",
       "    <tr>\n",
       "      <th>3</th>\n",
       "      <td>87</td>\n",
       "      <td>105</td>\n",
       "      <td>MISC-OTHER TIMEOFF</td>\n",
       "      <td>10103587.0</td>\n",
       "      <td>289865.0</td>\n",
       "      <td>34.856181</td>\n",
       "      <td>0</td>\n",
       "      <td>1</td>\n",
       "      <td>1</td>\n",
       "    </tr>\n",
       "    <tr>\n",
       "      <th>4</th>\n",
       "      <td>87</td>\n",
       "      <td>201</td>\n",
       "      <td>UNIFORM-REGULAR</td>\n",
       "      <td>5080.0</td>\n",
       "      <td>180.0</td>\n",
       "      <td>28.222222</td>\n",
       "      <td>1</td>\n",
       "      <td>1</td>\n",
       "      <td>1</td>\n",
       "    </tr>\n",
       "  </tbody>\n",
       "</table>\n",
       "</div>"
      ],
      "text/plain": [
       "   report_id pay_type_id pay_type_description  Total_Dollars  Total_Hours  \\\n",
       "0         87         101         MISC-REGULAR     93339554.0    2679091.0   \n",
       "1         87         102        MISC-SICK PAY      5258853.0     158087.0   \n",
       "2         87         104        MISC-VACATION      6710429.0     196136.0   \n",
       "3         87         105   MISC-OTHER TIMEOFF     10103587.0     289865.0   \n",
       "4         87         201      UNIFORM-REGULAR         5080.0        180.0   \n",
       "\n",
       "   Hourly Rate  cr255210db1_pay_pay_types.is_productive  \\\n",
       "0    34.840009                                        1   \n",
       "1    33.265563                                        0   \n",
       "2    34.213143                                        0   \n",
       "3    34.856181                                        0   \n",
       "4    28.222222                                        1   \n",
       "\n",
       "   cr255210db1_pay_pay_types.use_salaries  cr255210db1_pay_pay_types.use_hours  \n",
       "0                                       1                                    1  \n",
       "1                                       1                                    1  \n",
       "2                                       1                                    1  \n",
       "3                                       1                                    1  \n",
       "4                                       1                                    1  "
      ]
     },
     "execution_count": 3,
     "metadata": {},
     "output_type": "execute_result"
    }
   ],
   "source": [
    "data = pd.read_excel('data/paycode_data.xlsx')\n",
    "data.head()"
   ]
  },
  {
   "cell_type": "code",
   "execution_count": 4,
   "metadata": {},
   "outputs": [],
   "source": [
    "data = data.drop(columns = [\"report_id\",\"pay_type_id\" ])"
   ]
  },
  {
   "cell_type": "markdown",
   "metadata": {},
   "source": [
    "The last three column names seems a little messy. We can rename them: "
   ]
  },
  {
   "cell_type": "code",
   "execution_count": 5,
   "metadata": {},
   "outputs": [
    {
     "data": {
      "text/html": [
       "<div>\n",
       "<style scoped>\n",
       "    .dataframe tbody tr th:only-of-type {\n",
       "        vertical-align: middle;\n",
       "    }\n",
       "\n",
       "    .dataframe tbody tr th {\n",
       "        vertical-align: top;\n",
       "    }\n",
       "\n",
       "    .dataframe thead th {\n",
       "        text-align: right;\n",
       "    }\n",
       "</style>\n",
       "<table border=\"1\" class=\"dataframe\">\n",
       "  <thead>\n",
       "    <tr style=\"text-align: right;\">\n",
       "      <th></th>\n",
       "      <th>pay_type_description</th>\n",
       "      <th>total_dollars</th>\n",
       "      <th>total_hours</th>\n",
       "      <th>hourly_rate</th>\n",
       "      <th>is_productive</th>\n",
       "      <th>use_salaries</th>\n",
       "      <th>use_hours</th>\n",
       "    </tr>\n",
       "  </thead>\n",
       "  <tbody>\n",
       "    <tr>\n",
       "      <th>0</th>\n",
       "      <td>MISC-REGULAR</td>\n",
       "      <td>93339554.0</td>\n",
       "      <td>2679091.0</td>\n",
       "      <td>34.840009</td>\n",
       "      <td>1</td>\n",
       "      <td>1</td>\n",
       "      <td>1</td>\n",
       "    </tr>\n",
       "    <tr>\n",
       "      <th>1</th>\n",
       "      <td>MISC-SICK PAY</td>\n",
       "      <td>5258853.0</td>\n",
       "      <td>158087.0</td>\n",
       "      <td>33.265563</td>\n",
       "      <td>0</td>\n",
       "      <td>1</td>\n",
       "      <td>1</td>\n",
       "    </tr>\n",
       "    <tr>\n",
       "      <th>2</th>\n",
       "      <td>MISC-VACATION</td>\n",
       "      <td>6710429.0</td>\n",
       "      <td>196136.0</td>\n",
       "      <td>34.213143</td>\n",
       "      <td>0</td>\n",
       "      <td>1</td>\n",
       "      <td>1</td>\n",
       "    </tr>\n",
       "    <tr>\n",
       "      <th>3</th>\n",
       "      <td>MISC-OTHER TIMEOFF</td>\n",
       "      <td>10103587.0</td>\n",
       "      <td>289865.0</td>\n",
       "      <td>34.856181</td>\n",
       "      <td>0</td>\n",
       "      <td>1</td>\n",
       "      <td>1</td>\n",
       "    </tr>\n",
       "    <tr>\n",
       "      <th>4</th>\n",
       "      <td>UNIFORM-REGULAR</td>\n",
       "      <td>5080.0</td>\n",
       "      <td>180.0</td>\n",
       "      <td>28.222222</td>\n",
       "      <td>1</td>\n",
       "      <td>1</td>\n",
       "      <td>1</td>\n",
       "    </tr>\n",
       "  </tbody>\n",
       "</table>\n",
       "</div>"
      ],
      "text/plain": [
       "  pay_type_description  total_dollars  total_hours  hourly_rate  \\\n",
       "0         MISC-REGULAR     93339554.0    2679091.0    34.840009   \n",
       "1        MISC-SICK PAY      5258853.0     158087.0    33.265563   \n",
       "2        MISC-VACATION      6710429.0     196136.0    34.213143   \n",
       "3   MISC-OTHER TIMEOFF     10103587.0     289865.0    34.856181   \n",
       "4      UNIFORM-REGULAR         5080.0        180.0    28.222222   \n",
       "\n",
       "   is_productive  use_salaries  use_hours  \n",
       "0              1             1          1  \n",
       "1              0             1          1  \n",
       "2              0             1          1  \n",
       "3              0             1          1  \n",
       "4              1             1          1  "
      ]
     },
     "execution_count": 5,
     "metadata": {},
     "output_type": "execute_result"
    }
   ],
   "source": [
    "data.columns = ['pay_type_description', 'total_dollars', 'total_hours', 'hourly_rate', 'is_productive', 'use_salaries', 'use_hours']\n",
    "data.head()"
   ]
  },
  {
   "cell_type": "markdown",
   "metadata": {},
   "source": [
    "# Step 2 - Split Data into Training and Testing"
   ]
  },
  {
   "cell_type": "code",
   "execution_count": 6,
   "metadata": {},
   "outputs": [
    {
     "data": {
      "text/plain": [
       "62391"
      ]
     },
     "execution_count": 6,
     "metadata": {},
     "output_type": "execute_result"
    }
   ],
   "source": [
    "total = len(data)\n",
    "total"
   ]
  },
  {
   "cell_type": "markdown",
   "metadata": {},
   "source": [
    "We'll just use the 80/20 ratio for training and testing: "
   ]
  },
  {
   "cell_type": "code",
   "execution_count": 7,
   "metadata": {
    "scrolled": true
   },
   "outputs": [
    {
     "data": {
      "text/html": [
       "<div>\n",
       "<style scoped>\n",
       "    .dataframe tbody tr th:only-of-type {\n",
       "        vertical-align: middle;\n",
       "    }\n",
       "\n",
       "    .dataframe tbody tr th {\n",
       "        vertical-align: top;\n",
       "    }\n",
       "\n",
       "    .dataframe thead th {\n",
       "        text-align: right;\n",
       "    }\n",
       "</style>\n",
       "<table border=\"1\" class=\"dataframe\">\n",
       "  <thead>\n",
       "    <tr style=\"text-align: right;\">\n",
       "      <th></th>\n",
       "      <th>pay_type_description</th>\n",
       "      <th>total_dollars</th>\n",
       "      <th>total_hours</th>\n",
       "      <th>hourly_rate</th>\n",
       "      <th>is_productive</th>\n",
       "      <th>use_salaries</th>\n",
       "      <th>use_hours</th>\n",
       "    </tr>\n",
       "  </thead>\n",
       "  <tbody>\n",
       "    <tr>\n",
       "      <th>0</th>\n",
       "      <td>MISC-REGULAR</td>\n",
       "      <td>93339554.0</td>\n",
       "      <td>2679091.0</td>\n",
       "      <td>34.840009</td>\n",
       "      <td>1</td>\n",
       "      <td>1</td>\n",
       "      <td>1</td>\n",
       "    </tr>\n",
       "    <tr>\n",
       "      <th>1</th>\n",
       "      <td>MISC-SICK PAY</td>\n",
       "      <td>5258853.0</td>\n",
       "      <td>158087.0</td>\n",
       "      <td>33.265563</td>\n",
       "      <td>0</td>\n",
       "      <td>1</td>\n",
       "      <td>1</td>\n",
       "    </tr>\n",
       "    <tr>\n",
       "      <th>2</th>\n",
       "      <td>MISC-VACATION</td>\n",
       "      <td>6710429.0</td>\n",
       "      <td>196136.0</td>\n",
       "      <td>34.213143</td>\n",
       "      <td>0</td>\n",
       "      <td>1</td>\n",
       "      <td>1</td>\n",
       "    </tr>\n",
       "    <tr>\n",
       "      <th>3</th>\n",
       "      <td>MISC-OTHER TIMEOFF</td>\n",
       "      <td>10103587.0</td>\n",
       "      <td>289865.0</td>\n",
       "      <td>34.856181</td>\n",
       "      <td>0</td>\n",
       "      <td>1</td>\n",
       "      <td>1</td>\n",
       "    </tr>\n",
       "    <tr>\n",
       "      <th>4</th>\n",
       "      <td>UNIFORM-REGULAR</td>\n",
       "      <td>5080.0</td>\n",
       "      <td>180.0</td>\n",
       "      <td>28.222222</td>\n",
       "      <td>1</td>\n",
       "      <td>1</td>\n",
       "      <td>1</td>\n",
       "    </tr>\n",
       "  </tbody>\n",
       "</table>\n",
       "</div>"
      ],
      "text/plain": [
       "  pay_type_description  total_dollars  total_hours  hourly_rate  \\\n",
       "0         MISC-REGULAR     93339554.0    2679091.0    34.840009   \n",
       "1        MISC-SICK PAY      5258853.0     158087.0    33.265563   \n",
       "2        MISC-VACATION      6710429.0     196136.0    34.213143   \n",
       "3   MISC-OTHER TIMEOFF     10103587.0     289865.0    34.856181   \n",
       "4      UNIFORM-REGULAR         5080.0        180.0    28.222222   \n",
       "\n",
       "   is_productive  use_salaries  use_hours  \n",
       "0              1             1          1  \n",
       "1              0             1          1  \n",
       "2              0             1          1  \n",
       "3              0             1          1  \n",
       "4              1             1          1  "
      ]
     },
     "execution_count": 7,
     "metadata": {},
     "output_type": "execute_result"
    }
   ],
   "source": [
    "train = data.iloc[ : int(total*0.8)]\n",
    "train.head()"
   ]
  },
  {
   "cell_type": "code",
   "execution_count": 8,
   "metadata": {},
   "outputs": [
    {
     "data": {
      "text/html": [
       "<div>\n",
       "<style scoped>\n",
       "    .dataframe tbody tr th:only-of-type {\n",
       "        vertical-align: middle;\n",
       "    }\n",
       "\n",
       "    .dataframe tbody tr th {\n",
       "        vertical-align: top;\n",
       "    }\n",
       "\n",
       "    .dataframe thead th {\n",
       "        text-align: right;\n",
       "    }\n",
       "</style>\n",
       "<table border=\"1\" class=\"dataframe\">\n",
       "  <thead>\n",
       "    <tr style=\"text-align: right;\">\n",
       "      <th></th>\n",
       "      <th>pay_type_description</th>\n",
       "      <th>total_dollars</th>\n",
       "      <th>total_hours</th>\n",
       "      <th>hourly_rate</th>\n",
       "      <th>is_productive</th>\n",
       "      <th>use_salaries</th>\n",
       "      <th>use_hours</th>\n",
       "    </tr>\n",
       "  </thead>\n",
       "  <tbody>\n",
       "    <tr>\n",
       "      <th>49907</th>\n",
       "      <td>B12 BNS RET 12</td>\n",
       "      <td>10000.00</td>\n",
       "      <td>0.0</td>\n",
       "      <td>0.0</td>\n",
       "      <td>0</td>\n",
       "      <td>1</td>\n",
       "      <td>0</td>\n",
       "    </tr>\n",
       "    <tr>\n",
       "      <th>49908</th>\n",
       "      <td>BN9 BNS OTS</td>\n",
       "      <td>308285.00</td>\n",
       "      <td>0.0</td>\n",
       "      <td>0.0</td>\n",
       "      <td>0</td>\n",
       "      <td>1</td>\n",
       "      <td>0</td>\n",
       "    </tr>\n",
       "    <tr>\n",
       "      <th>49909</th>\n",
       "      <td>BNA BNSANNUAL</td>\n",
       "      <td>7062.64</td>\n",
       "      <td>0.0</td>\n",
       "      <td>0.0</td>\n",
       "      <td>0</td>\n",
       "      <td>1</td>\n",
       "      <td>0</td>\n",
       "    </tr>\n",
       "    <tr>\n",
       "      <th>49910</th>\n",
       "      <td>BNC BNSQUARTER</td>\n",
       "      <td>550.00</td>\n",
       "      <td>0.0</td>\n",
       "      <td>0.0</td>\n",
       "      <td>0</td>\n",
       "      <td>1</td>\n",
       "      <td>0</td>\n",
       "    </tr>\n",
       "    <tr>\n",
       "      <th>49911</th>\n",
       "      <td>BNE BNSSODOH</td>\n",
       "      <td>50000.00</td>\n",
       "      <td>0.0</td>\n",
       "      <td>0.0</td>\n",
       "      <td>0</td>\n",
       "      <td>1</td>\n",
       "      <td>0</td>\n",
       "    </tr>\n",
       "  </tbody>\n",
       "</table>\n",
       "</div>"
      ],
      "text/plain": [
       "      pay_type_description  total_dollars  total_hours  hourly_rate  \\\n",
       "49907       B12 BNS RET 12       10000.00          0.0          0.0   \n",
       "49908          BN9 BNS OTS      308285.00          0.0          0.0   \n",
       "49909        BNA BNSANNUAL        7062.64          0.0          0.0   \n",
       "49910       BNC BNSQUARTER         550.00          0.0          0.0   \n",
       "49911         BNE BNSSODOH       50000.00          0.0          0.0   \n",
       "\n",
       "       is_productive  use_salaries  use_hours  \n",
       "49907              0             1          0  \n",
       "49908              0             1          0  \n",
       "49909              0             1          0  \n",
       "49910              0             1          0  \n",
       "49911              0             1          0  "
      ]
     },
     "execution_count": 8,
     "metadata": {},
     "output_type": "execute_result"
    }
   ],
   "source": [
    "train.tail()"
   ]
  },
  {
   "cell_type": "code",
   "execution_count": 9,
   "metadata": {},
   "outputs": [
    {
     "data": {
      "text/html": [
       "<div>\n",
       "<style scoped>\n",
       "    .dataframe tbody tr th:only-of-type {\n",
       "        vertical-align: middle;\n",
       "    }\n",
       "\n",
       "    .dataframe tbody tr th {\n",
       "        vertical-align: top;\n",
       "    }\n",
       "\n",
       "    .dataframe thead th {\n",
       "        text-align: right;\n",
       "    }\n",
       "</style>\n",
       "<table border=\"1\" class=\"dataframe\">\n",
       "  <thead>\n",
       "    <tr style=\"text-align: right;\">\n",
       "      <th></th>\n",
       "      <th>pay_type_description</th>\n",
       "      <th>total_dollars</th>\n",
       "      <th>total_hours</th>\n",
       "      <th>hourly_rate</th>\n",
       "      <th>is_productive</th>\n",
       "      <th>use_salaries</th>\n",
       "      <th>use_hours</th>\n",
       "    </tr>\n",
       "  </thead>\n",
       "  <tbody>\n",
       "    <tr>\n",
       "      <th>49912</th>\n",
       "      <td>CEC MISCCOMP</td>\n",
       "      <td>8898.83</td>\n",
       "      <td>0.0</td>\n",
       "      <td>0.0</td>\n",
       "      <td>0</td>\n",
       "      <td>1</td>\n",
       "      <td>0</td>\n",
       "    </tr>\n",
       "    <tr>\n",
       "      <th>49913</th>\n",
       "      <td>Imputed Income</td>\n",
       "      <td>12627.00</td>\n",
       "      <td>0.0</td>\n",
       "      <td>0.0</td>\n",
       "      <td>0</td>\n",
       "      <td>1</td>\n",
       "      <td>0</td>\n",
       "    </tr>\n",
       "    <tr>\n",
       "      <th>49914</th>\n",
       "      <td>Med Direct</td>\n",
       "      <td>9100.00</td>\n",
       "      <td>0.0</td>\n",
       "      <td>0.0</td>\n",
       "      <td>0</td>\n",
       "      <td>1</td>\n",
       "      <td>0</td>\n",
       "    </tr>\n",
       "    <tr>\n",
       "      <th>49915</th>\n",
       "      <td>CHO HOUSECLRG</td>\n",
       "      <td>38736.00</td>\n",
       "      <td>0.0</td>\n",
       "      <td>0.0</td>\n",
       "      <td>0</td>\n",
       "      <td>1</td>\n",
       "      <td>0</td>\n",
       "    </tr>\n",
       "    <tr>\n",
       "      <th>49916</th>\n",
       "      <td>PT2 EIB</td>\n",
       "      <td>18502.45</td>\n",
       "      <td>0.0</td>\n",
       "      <td>0.0</td>\n",
       "      <td>0</td>\n",
       "      <td>1</td>\n",
       "      <td>0</td>\n",
       "    </tr>\n",
       "  </tbody>\n",
       "</table>\n",
       "</div>"
      ],
      "text/plain": [
       "      pay_type_description  total_dollars  total_hours  hourly_rate  \\\n",
       "49912         CEC MISCCOMP        8898.83          0.0          0.0   \n",
       "49913       Imputed Income       12627.00          0.0          0.0   \n",
       "49914           Med Direct        9100.00          0.0          0.0   \n",
       "49915        CHO HOUSECLRG       38736.00          0.0          0.0   \n",
       "49916              PT2 EIB       18502.45          0.0          0.0   \n",
       "\n",
       "       is_productive  use_salaries  use_hours  \n",
       "49912              0             1          0  \n",
       "49913              0             1          0  \n",
       "49914              0             1          0  \n",
       "49915              0             1          0  \n",
       "49916              0             1          0  "
      ]
     },
     "execution_count": 9,
     "metadata": {},
     "output_type": "execute_result"
    }
   ],
   "source": [
    "test = data.iloc[int(total*0.8):]\n",
    "test.head()"
   ]
  },
  {
   "cell_type": "markdown",
   "metadata": {},
   "source": [
    "# Step 3 - Classifier by Separability"
   ]
  },
  {
   "cell_type": "markdown",
   "metadata": {},
   "source": [
    "<h3> 1. Total Dollars </h3>\n",
    "\n",
    "There might be some correlation between the total dollar amount and the categories. So let's run some tests and see. "
   ]
  },
  {
   "cell_type": "markdown",
   "metadata": {},
   "source": [
    "<h3 style=\"color:green\"> total_dollars vs is_productive </h3>"
   ]
  },
  {
   "cell_type": "markdown",
   "metadata": {},
   "source": [
    "### Training (Learning) "
   ]
  },
  {
   "cell_type": "code",
   "execution_count": 10,
   "metadata": {},
   "outputs": [
    {
     "data": {
      "text/plain": [
       "<matplotlib.collections.PathCollection at 0x11aa3c588>"
      ]
     },
     "execution_count": 10,
     "metadata": {},
     "output_type": "execute_result"
    },
    {
     "data": {
      "image/png": "[encoded data removed]",
      "text/plain": [
       "<Figure size 720x360 with 1 Axes>"
      ]
     },
     "metadata": {
      "needs_background": "light"
     },
     "output_type": "display_data"
    }
   ],
   "source": [
    "fig = plt.figure(figsize=(10, 5))\n",
    "plt.scatter(x = train.total_dollars, y = train.is_productive, alpha = 0.1)"
   ]
  },
  {
   "cell_type": "markdown",
   "metadata": {},
   "source": [
    "It seems like that when the dollar amount gets large enough, it will fall into 1 (meaning IS productive). Let's find out more about the threshold. "
   ]
  },
  {
   "cell_type": "code",
   "execution_count": 11,
   "metadata": {},
   "outputs": [
    {
     "data": {
      "text/plain": [
       "181240153.41"
      ]
     },
     "execution_count": 11,
     "metadata": {},
     "output_type": "execute_result"
    }
   ],
   "source": [
    "max_not_productive_amount = max(train[train.is_productive == 0].total_dollars)\n",
    "max_not_productive_amount"
   ]
  },
  {
   "cell_type": "code",
   "execution_count": 12,
   "metadata": {},
   "outputs": [
    {
     "data": {
      "text/plain": [
       "<matplotlib.lines.Line2D at 0x11a21dcc0>"
      ]
     },
     "execution_count": 12,
     "metadata": {},
     "output_type": "execute_result"
    },
    {
     "data": {
      "image/png": "[encoded data removed]",
      "text/plain": [
       "<Figure size 720x360 with 1 Axes>"
      ]
     },
     "metadata": {
      "needs_background": "light"
     },
     "output_type": "display_data"
    }
   ],
   "source": [
    "fig = plt.figure(figsize=(10, 5))\n",
    "plt.scatter(x = train.total_dollars, y = train.is_productive, alpha = 0.1)\n",
    "plt.scatter(max_not_productive_amount, 0, marker = '^', c = \"red\", s = 100) \n",
    "plt.axvline(x = max_not_productive_amount, color = \"red\", alpha = 0.5)"
   ]
  },
  {
   "cell_type": "markdown",
   "metadata": {},
   "source": [
    "Which means that to the right of the red verticle line, the payment is very likely productive. "
   ]
  },
  {
   "cell_type": "code",
   "execution_count": 13,
   "metadata": {
    "scrolled": false
   },
   "outputs": [
    {
     "data": {
      "image/png": "[encoded data removed]",
      "text/plain": [
       "<Figure size 720x360 with 1 Axes>"
      ]
     },
     "metadata": {
      "needs_background": "light"
     },
     "output_type": "display_data"
    }
   ],
   "source": [
    "fig = plt.figure(figsize=(10, 5))\n",
    "plt.hist(train[train.is_productive == 0].total_dollars, bins = 30); "
   ]
  },
  {
   "cell_type": "code",
   "execution_count": 14,
   "metadata": {
    "scrolled": true
   },
   "outputs": [
    {
     "data": {
      "text/plain": [
       "array([   1893.46 ,   22893.49 ,  158085.16 ,  249589.368,  757784.136,\n",
       "       1806148.05 ])"
      ]
     },
     "execution_count": 14,
     "metadata": {},
     "output_type": "execute_result"
    }
   ],
   "source": [
    "np.percentile(a = train[train.is_productive == 0].total_dollars, q = [25, 50, 75, 80, 90, 95])"
   ]
  },
  {
   "cell_type": "code",
   "execution_count": 15,
   "metadata": {
    "scrolled": false
   },
   "outputs": [
    {
     "data": {
      "text/plain": [
       "array([38455612.83772235, 41870477.160404  , 45303660.98975977])"
      ]
     },
     "execution_count": 15,
     "metadata": {},
     "output_type": "execute_result"
    }
   ],
   "source": [
    "np.percentile(a = train[train.is_productive == 0].total_dollars, q = [99.9, 99.91, 99.92])"
   ]
  },
  {
   "cell_type": "markdown",
   "metadata": {},
   "source": [
    "We can set the approximate threshold value to be $45303660, marked by the green triangle in the graph below. Anything above that can be classified as `is_productive`. "
   ]
  },
  {
   "cell_type": "code",
   "execution_count": 16,
   "metadata": {
    "scrolled": true
   },
   "outputs": [
    {
     "data": {
      "text/plain": [
       "<matplotlib.lines.Line2D at 0x11b9dd6d8>"
      ]
     },
     "execution_count": 16,
     "metadata": {},
     "output_type": "execute_result"
    },
    {
     "data": {
      "image/png": "[encoded data removed]",
      "text/plain": [
       "<Figure size 720x360 with 1 Axes>"
      ]
     },
     "metadata": {
      "needs_background": "light"
     },
     "output_type": "display_data"
    }
   ],
   "source": [
    "fig = plt.figure(figsize=(10, 5))\n",
    "plt.scatter(x = train.total_dollars, y = train.is_productive, alpha = 0.1)\n",
    "plt.scatter(max_not_productive_amount, 0, marker = '^', c = \"red\", s = 100) \n",
    "plt.axvline(x = max_not_productive_amount, color = \"red\", alpha = 0.5)\n",
    "plt.scatter(45303660, 0, marker = '^', c = \"green\", s = 100) \n",
    "plt.axvline(x = 45303660, color = \"green\", alpha = 0.5)"
   ]
  },
  {
   "cell_type": "markdown",
   "metadata": {},
   "source": [
    "### Testing"
   ]
  },
  {
   "cell_type": "code",
   "execution_count": 17,
   "metadata": {},
   "outputs": [],
   "source": [
    "def testing(threshold, x_attribute, y_attribute):\n",
    "    prediction = []\n",
    "    if x_attribute == \"total_dollars\":\n",
    "        test_x = test.total_dollars\n",
    "    elif x_attribute == \"total_hours\":\n",
    "        test_x = test.total_hours\n",
    "    elif x_attribute == \"hourly_rate\":\n",
    "        test_x = test.hourly_rate\n",
    "    else:\n",
    "        print(\"ERROR: x_attribute is not recognized\")\n",
    "        \n",
    "    for amount in test_x:\n",
    "        if amount > threshold: \n",
    "            prediction.append(1)\n",
    "        else:\n",
    "            prediction.append(0)\n",
    "    \n",
    "    count = len(prediction)\n",
    "    if y_attribute == \"is_productive\": \n",
    "        truth = list(test.is_productive)\n",
    "    elif y_attribute == \"use_salaries\":\n",
    "        truth = list(test.use_salaries)\n",
    "    elif y_attribute == \"use_hours\":\n",
    "        truth = list(test.use_hours)\n",
    "    else:\n",
    "        print(\"ERROR: y_attribute is not recognized\")\n",
    "    correct_count = 0 \n",
    "    for i in range(count):\n",
    "        if prediction[i] == truth[i]:\n",
    "            correct_count += 1\n",
    "    print(\"The correct rate of classifier is: \", correct_count / count)"
   ]
  },
  {
   "cell_type": "code",
   "execution_count": 18,
   "metadata": {},
   "outputs": [
    {
     "name": "stdout",
     "output_type": "stream",
     "text": [
      "The correct rate of classifier is:  0.5629457488580816\n"
     ]
    }
   ],
   "source": [
    "testing(45303660, \"total_dollars\", \"is_productive\")"
   ]
  },
  {
   "cell_type": "markdown",
   "metadata": {},
   "source": [
    "<h3 style=\"color:green\"> total_dollars vs use_salaris </h3>"
   ]
  },
  {
   "cell_type": "code",
   "execution_count": 19,
   "metadata": {},
   "outputs": [
    {
     "data": {
      "text/plain": [
       "<matplotlib.collections.PathCollection at 0x11bb2fe10>"
      ]
     },
     "execution_count": 19,
     "metadata": {},
     "output_type": "execute_result"
    },
    {
     "data": {
      "image/png": "[encoded data removed]",
      "text/plain": [
       "<Figure size 720x360 with 1 Axes>"
      ]
     },
     "metadata": {
      "needs_background": "light"
     },
     "output_type": "display_data"
    }
   ],
   "source": [
    "fig = plt.figure(figsize=(10, 5))\n",
    "plt.scatter(x = train.total_dollars, y = train.use_salaries, alpha = 0.1)"
   ]
  },
  {
   "cell_type": "markdown",
   "metadata": {},
   "source": [
    "Okay, seems like a better correlation. "
   ]
  },
  {
   "cell_type": "code",
   "execution_count": 20,
   "metadata": {},
   "outputs": [
    {
     "data": {
      "text/plain": [
       "13888459.426900025"
      ]
     },
     "execution_count": 20,
     "metadata": {},
     "output_type": "execute_result"
    }
   ],
   "source": [
    "threshold = np.percentile(a = train[train.use_salaries == 0].total_dollars, q = 99.7)\n",
    "threshold"
   ]
  },
  {
   "cell_type": "code",
   "execution_count": 21,
   "metadata": {},
   "outputs": [
    {
     "data": {
      "text/plain": [
       "<matplotlib.lines.Line2D at 0x11bd38da0>"
      ]
     },
     "execution_count": 21,
     "metadata": {},
     "output_type": "execute_result"
    },
    {
     "data": {
      "image/png": "[encoded data removed]",
      "text/plain": [
       "<Figure size 720x360 with 1 Axes>"
      ]
     },
     "metadata": {
      "needs_background": "light"
     },
     "output_type": "display_data"
    }
   ],
   "source": [
    "fig = plt.figure(figsize=(10, 5))\n",
    "plt.scatter(x = train.total_dollars, y = train.use_salaries, alpha = 0.1)\n",
    "plt.scatter(threshold, 0, marker = '^', c = \"green\", s = 100) \n",
    "plt.axvline(x = threshold, color = \"green\", alpha = 0.5)"
   ]
  },
  {
   "cell_type": "code",
   "execution_count": 22,
   "metadata": {
    "scrolled": false
   },
   "outputs": [
    {
     "name": "stdout",
     "output_type": "stream",
     "text": [
      "The correct rate of classifier is:  0.18551165958810803\n"
     ]
    }
   ],
   "source": [
    "testing(threshold, \"total_dollars\", \"use_salaries\")"
   ]
  },
  {
   "cell_type": "markdown",
   "metadata": {},
   "source": [
    "Whoa, okay. Very bad. "
   ]
  },
  {
   "cell_type": "markdown",
   "metadata": {},
   "source": [
    "<h3 style=\"color:green\"> total_dollars vs use_hours </h3>"
   ]
  },
  {
   "cell_type": "code",
   "execution_count": 23,
   "metadata": {},
   "outputs": [
    {
     "data": {
      "text/plain": [
       "<matplotlib.collections.PathCollection at 0x11b8ca6d8>"
      ]
     },
     "execution_count": 23,
     "metadata": {},
     "output_type": "execute_result"
    },
    {
     "data": {
      "image/png": "[encoded data removed]",
      "text/plain": [
       "<Figure size 720x360 with 1 Axes>"
      ]
     },
     "metadata": {
      "needs_background": "light"
     },
     "output_type": "display_data"
    }
   ],
   "source": [
    "fig = plt.figure(figsize=(10, 5))\n",
    "plt.scatter(x = train.total_dollars, y = train.use_hours, alpha = 0.1)"
   ]
  },
  {
   "cell_type": "markdown",
   "metadata": {},
   "source": [
    "The graph looks very similar to the total_dollars vs use_salaries graph. So it's probably not seperable. "
   ]
  },
  {
   "cell_type": "markdown",
   "metadata": {},
   "source": [
    "<h3> 2. Total Hours </h3>"
   ]
  },
  {
   "cell_type": "markdown",
   "metadata": {},
   "source": [
    "<h3 style=\"color:green\"> total_hours vs is_productive </h3>"
   ]
  },
  {
   "cell_type": "code",
   "execution_count": 24,
   "metadata": {},
   "outputs": [
    {
     "data": {
      "text/plain": [
       "<matplotlib.collections.PathCollection at 0x11be19f98>"
      ]
     },
     "execution_count": 24,
     "metadata": {},
     "output_type": "execute_result"
    },
    {
     "data": {
      "image/png": "[encoded data removed]",
      "text/plain": [
       "<Figure size 720x360 with 1 Axes>"
      ]
     },
     "metadata": {
      "needs_background": "light"
     },
     "output_type": "display_data"
    }
   ],
   "source": [
    "fig = plt.figure(figsize=(10, 5))\n",
    "plt.scatter(x = train.total_hours, y = train.is_productive, alpha = 0.1)"
   ]
  },
  {
   "cell_type": "markdown",
   "metadata": {},
   "source": [
    "<h3 style=\"color:green\"> total_hours vs use_salaries </h3>"
   ]
  },
  {
   "cell_type": "code",
   "execution_count": 25,
   "metadata": {},
   "outputs": [
    {
     "data": {
      "text/plain": [
       "<matplotlib.collections.PathCollection at 0x11a334518>"
      ]
     },
     "execution_count": 25,
     "metadata": {},
     "output_type": "execute_result"
    },
    {
     "data": {
      "image/png": "[encoded data removed]",
      "text/plain": [
       "<Figure size 720x360 with 1 Axes>"
      ]
     },
     "metadata": {
      "needs_background": "light"
     },
     "output_type": "display_data"
    }
   ],
   "source": [
    "fig = plt.figure(figsize=(10, 5))\n",
    "plt.scatter(x = train.total_hours, y = train.use_salaries, alpha = 0.1)"
   ]
  },
  {
   "cell_type": "markdown",
   "metadata": {},
   "source": [
    "<h3 style=\"color:green\"> total_hours vs use_hours </h3>"
   ]
  },
  {
   "cell_type": "code",
   "execution_count": 26,
   "metadata": {},
   "outputs": [
    {
     "data": {
      "text/plain": [
       "<matplotlib.collections.PathCollection at 0x11747a588>"
      ]
     },
     "execution_count": 26,
     "metadata": {},
     "output_type": "execute_result"
    },
    {
     "data": {
      "image/png": "[encoded data removed]",
      "text/plain": [
       "<Figure size 720x360 with 1 Axes>"
      ]
     },
     "metadata": {
      "needs_background": "light"
     },
     "output_type": "display_data"
    }
   ],
   "source": [
    "fig = plt.figure(figsize=(10, 5))\n",
    "plt.scatter(x = train.total_hours, y = train.use_hours, alpha = 0.1)"
   ]
  },
  {
   "cell_type": "markdown",
   "metadata": {},
   "source": [
    "<h3> 3. Hourly Rate </h3>"
   ]
  },
  {
   "cell_type": "code",
   "execution_count": 27,
   "metadata": {},
   "outputs": [
    {
     "data": {
      "text/plain": [
       "<matplotlib.collections.PathCollection at 0x11a1eaf98>"
      ]
     },
     "execution_count": 27,
     "metadata": {},
     "output_type": "execute_result"
    },
    {
     "data": {
      "image/png": "[encoded data removed]",
      "text/plain": [
       "<Figure size 720x360 with 1 Axes>"
      ]
     },
     "metadata": {
      "needs_background": "light"
     },
     "output_type": "display_data"
    }
   ],
   "source": [
    "fig = plt.figure(figsize=(10, 5))\n",
    "plt.scatter(x = train.hourly_rate, y = train.is_productive, alpha = 0.1)"
   ]
  },
  {
   "cell_type": "code",
   "execution_count": 28,
   "metadata": {},
   "outputs": [
    {
     "data": {
      "text/plain": [
       "<matplotlib.collections.PathCollection at 0x119a2b940>"
      ]
     },
     "execution_count": 28,
     "metadata": {},
     "output_type": "execute_result"
    },
    {
     "data": {
      "image/png": "[encoded data removed]",
      "text/plain": [
       "<Figure size 720x360 with 1 Axes>"
      ]
     },
     "metadata": {
      "needs_background": "light"
     },
     "output_type": "display_data"
    }
   ],
   "source": [
    "fig = plt.figure(figsize=(10, 5))\n",
    "plt.scatter(x = train.hourly_rate, y = train.use_salaries, alpha = 0.1)"
   ]
  },
  {
   "cell_type": "code",
   "execution_count": 29,
   "metadata": {},
   "outputs": [
    {
     "data": {
      "text/plain": [
       "<matplotlib.collections.PathCollection at 0x1195c9240>"
      ]
     },
     "execution_count": 29,
     "metadata": {},
     "output_type": "execute_result"
    },
    {
     "data": {
      "image/png": "[encoded data removed]",
      "text/plain": [
       "<Figure size 720x360 with 1 Axes>"
      ]
     },
     "metadata": {
      "needs_background": "light"
     },
     "output_type": "display_data"
    }
   ],
   "source": [
    "fig = plt.figure(figsize=(10, 5))\n",
    "plt.scatter(x = train.hourly_rate, y = train.use_hours, alpha = 0.1)"
   ]
  },
  {
   "cell_type": "markdown",
   "metadata": {},
   "source": [
    "# Step 4 - Machine Learning Classifier based on total_dollars, total_hours, and hourly_rate all together"
   ]
  },
  {
   "cell_type": "code",
   "execution_count": 30,
   "metadata": {},
   "outputs": [
    {
     "name": "stderr",
     "output_type": "stream",
     "text": [
      "Using TensorFlow backend.\n"
     ]
    }
   ],
   "source": [
    "from tensorflow import keras\n",
    "import tensorflow as tf\n",
    "from keras import regularizers\n",
    "from sklearn import preprocessing"
   ]
  },
  {
   "cell_type": "code",
   "execution_count": 31,
   "metadata": {
    "scrolled": false
   },
   "outputs": [
    {
     "data": {
      "text/html": [
       "<div>\n",
       "<style scoped>\n",
       "    .dataframe tbody tr th:only-of-type {\n",
       "        vertical-align: middle;\n",
       "    }\n",
       "\n",
       "    .dataframe tbody tr th {\n",
       "        vertical-align: top;\n",
       "    }\n",
       "\n",
       "    .dataframe thead th {\n",
       "        text-align: right;\n",
       "    }\n",
       "</style>\n",
       "<table border=\"1\" class=\"dataframe\">\n",
       "  <thead>\n",
       "    <tr style=\"text-align: right;\">\n",
       "      <th></th>\n",
       "      <th>pay_type_description</th>\n",
       "      <th>total_dollars</th>\n",
       "      <th>total_hours</th>\n",
       "      <th>hourly_rate</th>\n",
       "      <th>is_productive</th>\n",
       "      <th>use_salaries</th>\n",
       "      <th>use_hours</th>\n",
       "    </tr>\n",
       "  </thead>\n",
       "  <tbody>\n",
       "    <tr>\n",
       "      <th>0</th>\n",
       "      <td>MISC-REGULAR</td>\n",
       "      <td>93339554.0</td>\n",
       "      <td>2679091.0</td>\n",
       "      <td>34.840009</td>\n",
       "      <td>1</td>\n",
       "      <td>1</td>\n",
       "      <td>1</td>\n",
       "    </tr>\n",
       "    <tr>\n",
       "      <th>1</th>\n",
       "      <td>MISC-SICK PAY</td>\n",
       "      <td>5258853.0</td>\n",
       "      <td>158087.0</td>\n",
       "      <td>33.265563</td>\n",
       "      <td>0</td>\n",
       "      <td>1</td>\n",
       "      <td>1</td>\n",
       "    </tr>\n",
       "    <tr>\n",
       "      <th>2</th>\n",
       "      <td>MISC-VACATION</td>\n",
       "      <td>6710429.0</td>\n",
       "      <td>196136.0</td>\n",
       "      <td>34.213143</td>\n",
       "      <td>0</td>\n",
       "      <td>1</td>\n",
       "      <td>1</td>\n",
       "    </tr>\n",
       "    <tr>\n",
       "      <th>3</th>\n",
       "      <td>MISC-OTHER TIMEOFF</td>\n",
       "      <td>10103587.0</td>\n",
       "      <td>289865.0</td>\n",
       "      <td>34.856181</td>\n",
       "      <td>0</td>\n",
       "      <td>1</td>\n",
       "      <td>1</td>\n",
       "    </tr>\n",
       "    <tr>\n",
       "      <th>4</th>\n",
       "      <td>UNIFORM-REGULAR</td>\n",
       "      <td>5080.0</td>\n",
       "      <td>180.0</td>\n",
       "      <td>28.222222</td>\n",
       "      <td>1</td>\n",
       "      <td>1</td>\n",
       "      <td>1</td>\n",
       "    </tr>\n",
       "  </tbody>\n",
       "</table>\n",
       "</div>"
      ],
      "text/plain": [
       "  pay_type_description  total_dollars  total_hours  hourly_rate  \\\n",
       "0         MISC-REGULAR     93339554.0    2679091.0    34.840009   \n",
       "1        MISC-SICK PAY      5258853.0     158087.0    33.265563   \n",
       "2        MISC-VACATION      6710429.0     196136.0    34.213143   \n",
       "3   MISC-OTHER TIMEOFF     10103587.0     289865.0    34.856181   \n",
       "4      UNIFORM-REGULAR         5080.0        180.0    28.222222   \n",
       "\n",
       "   is_productive  use_salaries  use_hours  \n",
       "0              1             1          1  \n",
       "1              0             1          1  \n",
       "2              0             1          1  \n",
       "3              0             1          1  \n",
       "4              1             1          1  "
      ]
     },
     "execution_count": 31,
     "metadata": {},
     "output_type": "execute_result"
    }
   ],
   "source": [
    "data.head()"
   ]
  },
  {
   "cell_type": "markdown",
   "metadata": {},
   "source": [
    "As we can see, the values in `total_dollars` and `total_hours` can get very large, so it's better to scale the data first to avoid bias later on. \n",
    "\n",
    "Note: It is probably not a good idea to standardize the data, since, as we can see from the graphs above, the distributions do not look very \"normal\". "
   ]
  },
  {
   "cell_type": "code",
   "execution_count": 32,
   "metadata": {},
   "outputs": [],
   "source": [
    "min_max_scaler = preprocessing.MinMaxScaler()"
   ]
  },
  {
   "cell_type": "code",
   "execution_count": 33,
   "metadata": {},
   "outputs": [
    {
     "data": {
      "text/html": [
       "<div>\n",
       "<style scoped>\n",
       "    .dataframe tbody tr th:only-of-type {\n",
       "        vertical-align: middle;\n",
       "    }\n",
       "\n",
       "    .dataframe tbody tr th {\n",
       "        vertical-align: top;\n",
       "    }\n",
       "\n",
       "    .dataframe thead th {\n",
       "        text-align: right;\n",
       "    }\n",
       "</style>\n",
       "<table border=\"1\" class=\"dataframe\">\n",
       "  <thead>\n",
       "    <tr style=\"text-align: right;\">\n",
       "      <th></th>\n",
       "      <th>pay_type_description</th>\n",
       "      <th>total_dollars</th>\n",
       "      <th>total_hours</th>\n",
       "      <th>hourly_rate</th>\n",
       "      <th>is_productive</th>\n",
       "      <th>use_salaries</th>\n",
       "      <th>use_hours</th>\n",
       "      <th>total_dollars_scaled</th>\n",
       "      <th>total_hours_scaled</th>\n",
       "      <th>hourly_rate_scaled</th>\n",
       "    </tr>\n",
       "  </thead>\n",
       "  <tbody>\n",
       "    <tr>\n",
       "      <th>0</th>\n",
       "      <td>MISC-REGULAR</td>\n",
       "      <td>93339554.0</td>\n",
       "      <td>2679091.0</td>\n",
       "      <td>34.840009</td>\n",
       "      <td>1</td>\n",
       "      <td>1</td>\n",
       "      <td>1</td>\n",
       "      <td>0.086697</td>\n",
       "      <td>0.092102</td>\n",
       "      <td>0.311850</td>\n",
       "    </tr>\n",
       "    <tr>\n",
       "      <th>1</th>\n",
       "      <td>MISC-SICK PAY</td>\n",
       "      <td>5258853.0</td>\n",
       "      <td>158087.0</td>\n",
       "      <td>33.265563</td>\n",
       "      <td>0</td>\n",
       "      <td>1</td>\n",
       "      <td>1</td>\n",
       "      <td>0.009987</td>\n",
       "      <td>0.009415</td>\n",
       "      <td>0.311849</td>\n",
       "    </tr>\n",
       "    <tr>\n",
       "      <th>2</th>\n",
       "      <td>MISC-VACATION</td>\n",
       "      <td>6710429.0</td>\n",
       "      <td>196136.0</td>\n",
       "      <td>34.213143</td>\n",
       "      <td>0</td>\n",
       "      <td>1</td>\n",
       "      <td>1</td>\n",
       "      <td>0.011251</td>\n",
       "      <td>0.010662</td>\n",
       "      <td>0.311850</td>\n",
       "    </tr>\n",
       "    <tr>\n",
       "      <th>3</th>\n",
       "      <td>MISC-OTHER TIMEOFF</td>\n",
       "      <td>10103587.0</td>\n",
       "      <td>289865.0</td>\n",
       "      <td>34.856181</td>\n",
       "      <td>0</td>\n",
       "      <td>1</td>\n",
       "      <td>1</td>\n",
       "      <td>0.014207</td>\n",
       "      <td>0.013737</td>\n",
       "      <td>0.311850</td>\n",
       "    </tr>\n",
       "    <tr>\n",
       "      <th>4</th>\n",
       "      <td>UNIFORM-REGULAR</td>\n",
       "      <td>5080.0</td>\n",
       "      <td>180.0</td>\n",
       "      <td>28.222222</td>\n",
       "      <td>1</td>\n",
       "      <td>1</td>\n",
       "      <td>1</td>\n",
       "      <td>0.005412</td>\n",
       "      <td>0.004235</td>\n",
       "      <td>0.311846</td>\n",
       "    </tr>\n",
       "  </tbody>\n",
       "</table>\n",
       "</div>"
      ],
      "text/plain": [
       "  pay_type_description  total_dollars  total_hours  hourly_rate  \\\n",
       "0         MISC-REGULAR     93339554.0    2679091.0    34.840009   \n",
       "1        MISC-SICK PAY      5258853.0     158087.0    33.265563   \n",
       "2        MISC-VACATION      6710429.0     196136.0    34.213143   \n",
       "3   MISC-OTHER TIMEOFF     10103587.0     289865.0    34.856181   \n",
       "4      UNIFORM-REGULAR         5080.0        180.0    28.222222   \n",
       "\n",
       "   is_productive  use_salaries  use_hours  total_dollars_scaled  \\\n",
       "0              1             1          1              0.086697   \n",
       "1              0             1          1              0.009987   \n",
       "2              0             1          1              0.011251   \n",
       "3              0             1          1              0.014207   \n",
       "4              1             1          1              0.005412   \n",
       "\n",
       "   total_hours_scaled  hourly_rate_scaled  \n",
       "0            0.092102            0.311850  \n",
       "1            0.009415            0.311849  \n",
       "2            0.010662            0.311850  \n",
       "3            0.013737            0.311850  \n",
       "4            0.004235            0.311846  "
      ]
     },
     "execution_count": 33,
     "metadata": {},
     "output_type": "execute_result"
    }
   ],
   "source": [
    "data[\"total_dollars_scaled\"] = min_max_scaler.fit_transform(data[[\"total_dollars\"]])\n",
    "data[\"total_hours_scaled\"] = min_max_scaler.fit_transform(data[[\"total_hours\"]])\n",
    "data[\"hourly_rate_scaled\"] = min_max_scaler.fit_transform(data[[\"hourly_rate\"]])\n",
    "data.head()"
   ]
  },
  {
   "cell_type": "code",
   "execution_count": 34,
   "metadata": {},
   "outputs": [
    {
     "data": {
      "text/html": [
       "<div>\n",
       "<style scoped>\n",
       "    .dataframe tbody tr th:only-of-type {\n",
       "        vertical-align: middle;\n",
       "    }\n",
       "\n",
       "    .dataframe tbody tr th {\n",
       "        vertical-align: top;\n",
       "    }\n",
       "\n",
       "    .dataframe thead th {\n",
       "        text-align: right;\n",
       "    }\n",
       "</style>\n",
       "<table border=\"1\" class=\"dataframe\">\n",
       "  <thead>\n",
       "    <tr style=\"text-align: right;\">\n",
       "      <th></th>\n",
       "      <th>pay_type_description</th>\n",
       "      <th>is_productive</th>\n",
       "      <th>use_salaries</th>\n",
       "      <th>use_hours</th>\n",
       "      <th>total_dollars_scaled</th>\n",
       "      <th>total_hours_scaled</th>\n",
       "      <th>hourly_rate_scaled</th>\n",
       "    </tr>\n",
       "  </thead>\n",
       "  <tbody>\n",
       "    <tr>\n",
       "      <th>0</th>\n",
       "      <td>MISC-REGULAR</td>\n",
       "      <td>1</td>\n",
       "      <td>1</td>\n",
       "      <td>1</td>\n",
       "      <td>0.086697</td>\n",
       "      <td>0.092102</td>\n",
       "      <td>0.311850</td>\n",
       "    </tr>\n",
       "    <tr>\n",
       "      <th>1</th>\n",
       "      <td>MISC-SICK PAY</td>\n",
       "      <td>0</td>\n",
       "      <td>1</td>\n",
       "      <td>1</td>\n",
       "      <td>0.009987</td>\n",
       "      <td>0.009415</td>\n",
       "      <td>0.311849</td>\n",
       "    </tr>\n",
       "    <tr>\n",
       "      <th>2</th>\n",
       "      <td>MISC-VACATION</td>\n",
       "      <td>0</td>\n",
       "      <td>1</td>\n",
       "      <td>1</td>\n",
       "      <td>0.011251</td>\n",
       "      <td>0.010662</td>\n",
       "      <td>0.311850</td>\n",
       "    </tr>\n",
       "    <tr>\n",
       "      <th>3</th>\n",
       "      <td>MISC-OTHER TIMEOFF</td>\n",
       "      <td>0</td>\n",
       "      <td>1</td>\n",
       "      <td>1</td>\n",
       "      <td>0.014207</td>\n",
       "      <td>0.013737</td>\n",
       "      <td>0.311850</td>\n",
       "    </tr>\n",
       "    <tr>\n",
       "      <th>4</th>\n",
       "      <td>UNIFORM-REGULAR</td>\n",
       "      <td>1</td>\n",
       "      <td>1</td>\n",
       "      <td>1</td>\n",
       "      <td>0.005412</td>\n",
       "      <td>0.004235</td>\n",
       "      <td>0.311846</td>\n",
       "    </tr>\n",
       "  </tbody>\n",
       "</table>\n",
       "</div>"
      ],
      "text/plain": [
       "  pay_type_description  is_productive  use_salaries  use_hours  \\\n",
       "0         MISC-REGULAR              1             1          1   \n",
       "1        MISC-SICK PAY              0             1          1   \n",
       "2        MISC-VACATION              0             1          1   \n",
       "3   MISC-OTHER TIMEOFF              0             1          1   \n",
       "4      UNIFORM-REGULAR              1             1          1   \n",
       "\n",
       "   total_dollars_scaled  total_hours_scaled  hourly_rate_scaled  \n",
       "0              0.086697            0.092102            0.311850  \n",
       "1              0.009987            0.009415            0.311849  \n",
       "2              0.011251            0.010662            0.311850  \n",
       "3              0.014207            0.013737            0.311850  \n",
       "4              0.005412            0.004235            0.311846  "
      ]
     },
     "execution_count": 34,
     "metadata": {},
     "output_type": "execute_result"
    }
   ],
   "source": [
    "data = data.drop([\"total_dollars\", \"total_hours\", \"hourly_rate\"], axis = 1); \n",
    "data.head()"
   ]
  },
  {
   "cell_type": "markdown",
   "metadata": {},
   "source": [
    "Now, after scaling, again, we split the data into training and testing:"
   ]
  },
  {
   "cell_type": "code",
   "execution_count": 35,
   "metadata": {
    "scrolled": true
   },
   "outputs": [
    {
     "data": {
      "text/html": [
       "<div>\n",
       "<style scoped>\n",
       "    .dataframe tbody tr th:only-of-type {\n",
       "        vertical-align: middle;\n",
       "    }\n",
       "\n",
       "    .dataframe tbody tr th {\n",
       "        vertical-align: top;\n",
       "    }\n",
       "\n",
       "    .dataframe thead th {\n",
       "        text-align: right;\n",
       "    }\n",
       "</style>\n",
       "<table border=\"1\" class=\"dataframe\">\n",
       "  <thead>\n",
       "    <tr style=\"text-align: right;\">\n",
       "      <th></th>\n",
       "      <th>pay_type_description</th>\n",
       "      <th>is_productive</th>\n",
       "      <th>use_salaries</th>\n",
       "      <th>use_hours</th>\n",
       "      <th>total_dollars_scaled</th>\n",
       "      <th>total_hours_scaled</th>\n",
       "      <th>hourly_rate_scaled</th>\n",
       "    </tr>\n",
       "  </thead>\n",
       "  <tbody>\n",
       "    <tr>\n",
       "      <th>0</th>\n",
       "      <td>MISC-REGULAR</td>\n",
       "      <td>1</td>\n",
       "      <td>1</td>\n",
       "      <td>1</td>\n",
       "      <td>0.086697</td>\n",
       "      <td>0.092102</td>\n",
       "      <td>0.311850</td>\n",
       "    </tr>\n",
       "    <tr>\n",
       "      <th>1</th>\n",
       "      <td>MISC-SICK PAY</td>\n",
       "      <td>0</td>\n",
       "      <td>1</td>\n",
       "      <td>1</td>\n",
       "      <td>0.009987</td>\n",
       "      <td>0.009415</td>\n",
       "      <td>0.311849</td>\n",
       "    </tr>\n",
       "    <tr>\n",
       "      <th>2</th>\n",
       "      <td>MISC-VACATION</td>\n",
       "      <td>0</td>\n",
       "      <td>1</td>\n",
       "      <td>1</td>\n",
       "      <td>0.011251</td>\n",
       "      <td>0.010662</td>\n",
       "      <td>0.311850</td>\n",
       "    </tr>\n",
       "    <tr>\n",
       "      <th>3</th>\n",
       "      <td>MISC-OTHER TIMEOFF</td>\n",
       "      <td>0</td>\n",
       "      <td>1</td>\n",
       "      <td>1</td>\n",
       "      <td>0.014207</td>\n",
       "      <td>0.013737</td>\n",
       "      <td>0.311850</td>\n",
       "    </tr>\n",
       "    <tr>\n",
       "      <th>4</th>\n",
       "      <td>UNIFORM-REGULAR</td>\n",
       "      <td>1</td>\n",
       "      <td>1</td>\n",
       "      <td>1</td>\n",
       "      <td>0.005412</td>\n",
       "      <td>0.004235</td>\n",
       "      <td>0.311846</td>\n",
       "    </tr>\n",
       "  </tbody>\n",
       "</table>\n",
       "</div>"
      ],
      "text/plain": [
       "  pay_type_description  is_productive  use_salaries  use_hours  \\\n",
       "0         MISC-REGULAR              1             1          1   \n",
       "1        MISC-SICK PAY              0             1          1   \n",
       "2        MISC-VACATION              0             1          1   \n",
       "3   MISC-OTHER TIMEOFF              0             1          1   \n",
       "4      UNIFORM-REGULAR              1             1          1   \n",
       "\n",
       "   total_dollars_scaled  total_hours_scaled  hourly_rate_scaled  \n",
       "0              0.086697            0.092102            0.311850  \n",
       "1              0.009987            0.009415            0.311849  \n",
       "2              0.011251            0.010662            0.311850  \n",
       "3              0.014207            0.013737            0.311850  \n",
       "4              0.005412            0.004235            0.311846  "
      ]
     },
     "execution_count": 35,
     "metadata": {},
     "output_type": "execute_result"
    }
   ],
   "source": [
    "train = data.iloc[ : int(total*0.8)]\n",
    "train.head()"
   ]
  },
  {
   "cell_type": "code",
   "execution_count": 36,
   "metadata": {},
   "outputs": [
    {
     "data": {
      "text/html": [
       "<div>\n",
       "<style scoped>\n",
       "    .dataframe tbody tr th:only-of-type {\n",
       "        vertical-align: middle;\n",
       "    }\n",
       "\n",
       "    .dataframe tbody tr th {\n",
       "        vertical-align: top;\n",
       "    }\n",
       "\n",
       "    .dataframe thead th {\n",
       "        text-align: right;\n",
       "    }\n",
       "</style>\n",
       "<table border=\"1\" class=\"dataframe\">\n",
       "  <thead>\n",
       "    <tr style=\"text-align: right;\">\n",
       "      <th></th>\n",
       "      <th>pay_type_description</th>\n",
       "      <th>is_productive</th>\n",
       "      <th>use_salaries</th>\n",
       "      <th>use_hours</th>\n",
       "      <th>total_dollars_scaled</th>\n",
       "      <th>total_hours_scaled</th>\n",
       "      <th>hourly_rate_scaled</th>\n",
       "    </tr>\n",
       "  </thead>\n",
       "  <tbody>\n",
       "    <tr>\n",
       "      <th>49907</th>\n",
       "      <td>B12 BNS RET 12</td>\n",
       "      <td>0</td>\n",
       "      <td>1</td>\n",
       "      <td>0</td>\n",
       "      <td>0.005416</td>\n",
       "      <td>0.004229</td>\n",
       "      <td>0.311828</td>\n",
       "    </tr>\n",
       "    <tr>\n",
       "      <th>49908</th>\n",
       "      <td>BN9 BNS OTS</td>\n",
       "      <td>0</td>\n",
       "      <td>1</td>\n",
       "      <td>0</td>\n",
       "      <td>0.005676</td>\n",
       "      <td>0.004229</td>\n",
       "      <td>0.311828</td>\n",
       "    </tr>\n",
       "    <tr>\n",
       "      <th>49909</th>\n",
       "      <td>BNA BNSANNUAL</td>\n",
       "      <td>0</td>\n",
       "      <td>1</td>\n",
       "      <td>0</td>\n",
       "      <td>0.005413</td>\n",
       "      <td>0.004229</td>\n",
       "      <td>0.311828</td>\n",
       "    </tr>\n",
       "    <tr>\n",
       "      <th>49910</th>\n",
       "      <td>BNC BNSQUARTER</td>\n",
       "      <td>0</td>\n",
       "      <td>1</td>\n",
       "      <td>0</td>\n",
       "      <td>0.005408</td>\n",
       "      <td>0.004229</td>\n",
       "      <td>0.311828</td>\n",
       "    </tr>\n",
       "    <tr>\n",
       "      <th>49911</th>\n",
       "      <td>BNE BNSSODOH</td>\n",
       "      <td>0</td>\n",
       "      <td>1</td>\n",
       "      <td>0</td>\n",
       "      <td>0.005451</td>\n",
       "      <td>0.004229</td>\n",
       "      <td>0.311828</td>\n",
       "    </tr>\n",
       "  </tbody>\n",
       "</table>\n",
       "</div>"
      ],
      "text/plain": [
       "      pay_type_description  is_productive  use_salaries  use_hours  \\\n",
       "49907       B12 BNS RET 12              0             1          0   \n",
       "49908          BN9 BNS OTS              0             1          0   \n",
       "49909        BNA BNSANNUAL              0             1          0   \n",
       "49910       BNC BNSQUARTER              0             1          0   \n",
       "49911         BNE BNSSODOH              0             1          0   \n",
       "\n",
       "       total_dollars_scaled  total_hours_scaled  hourly_rate_scaled  \n",
       "49907              0.005416            0.004229            0.311828  \n",
       "49908              0.005676            0.004229            0.311828  \n",
       "49909              0.005413            0.004229            0.311828  \n",
       "49910              0.005408            0.004229            0.311828  \n",
       "49911              0.005451            0.004229            0.311828  "
      ]
     },
     "execution_count": 36,
     "metadata": {},
     "output_type": "execute_result"
    }
   ],
   "source": [
    "train.tail()"
   ]
  },
  {
   "cell_type": "code",
   "execution_count": 37,
   "metadata": {},
   "outputs": [
    {
     "data": {
      "text/html": [
       "<div>\n",
       "<style scoped>\n",
       "    .dataframe tbody tr th:only-of-type {\n",
       "        vertical-align: middle;\n",
       "    }\n",
       "\n",
       "    .dataframe tbody tr th {\n",
       "        vertical-align: top;\n",
       "    }\n",
       "\n",
       "    .dataframe thead th {\n",
       "        text-align: right;\n",
       "    }\n",
       "</style>\n",
       "<table border=\"1\" class=\"dataframe\">\n",
       "  <thead>\n",
       "    <tr style=\"text-align: right;\">\n",
       "      <th></th>\n",
       "      <th>pay_type_description</th>\n",
       "      <th>is_productive</th>\n",
       "      <th>use_salaries</th>\n",
       "      <th>use_hours</th>\n",
       "      <th>total_dollars_scaled</th>\n",
       "      <th>total_hours_scaled</th>\n",
       "      <th>hourly_rate_scaled</th>\n",
       "    </tr>\n",
       "  </thead>\n",
       "  <tbody>\n",
       "    <tr>\n",
       "      <th>49912</th>\n",
       "      <td>CEC MISCCOMP</td>\n",
       "      <td>0</td>\n",
       "      <td>1</td>\n",
       "      <td>0</td>\n",
       "      <td>0.005415</td>\n",
       "      <td>0.004229</td>\n",
       "      <td>0.311828</td>\n",
       "    </tr>\n",
       "    <tr>\n",
       "      <th>49913</th>\n",
       "      <td>Imputed Income</td>\n",
       "      <td>0</td>\n",
       "      <td>1</td>\n",
       "      <td>0</td>\n",
       "      <td>0.005418</td>\n",
       "      <td>0.004229</td>\n",
       "      <td>0.311828</td>\n",
       "    </tr>\n",
       "    <tr>\n",
       "      <th>49914</th>\n",
       "      <td>Med Direct</td>\n",
       "      <td>0</td>\n",
       "      <td>1</td>\n",
       "      <td>0</td>\n",
       "      <td>0.005415</td>\n",
       "      <td>0.004229</td>\n",
       "      <td>0.311828</td>\n",
       "    </tr>\n",
       "    <tr>\n",
       "      <th>49915</th>\n",
       "      <td>CHO HOUSECLRG</td>\n",
       "      <td>0</td>\n",
       "      <td>1</td>\n",
       "      <td>0</td>\n",
       "      <td>0.005441</td>\n",
       "      <td>0.004229</td>\n",
       "      <td>0.311828</td>\n",
       "    </tr>\n",
       "    <tr>\n",
       "      <th>49916</th>\n",
       "      <td>PT2 EIB</td>\n",
       "      <td>0</td>\n",
       "      <td>1</td>\n",
       "      <td>0</td>\n",
       "      <td>0.005423</td>\n",
       "      <td>0.004229</td>\n",
       "      <td>0.311828</td>\n",
       "    </tr>\n",
       "  </tbody>\n",
       "</table>\n",
       "</div>"
      ],
      "text/plain": [
       "      pay_type_description  is_productive  use_salaries  use_hours  \\\n",
       "49912         CEC MISCCOMP              0             1          0   \n",
       "49913       Imputed Income              0             1          0   \n",
       "49914           Med Direct              0             1          0   \n",
       "49915        CHO HOUSECLRG              0             1          0   \n",
       "49916              PT2 EIB              0             1          0   \n",
       "\n",
       "       total_dollars_scaled  total_hours_scaled  hourly_rate_scaled  \n",
       "49912              0.005415            0.004229            0.311828  \n",
       "49913              0.005418            0.004229            0.311828  \n",
       "49914              0.005415            0.004229            0.311828  \n",
       "49915              0.005441            0.004229            0.311828  \n",
       "49916              0.005423            0.004229            0.311828  "
      ]
     },
     "execution_count": 37,
     "metadata": {},
     "output_type": "execute_result"
    }
   ],
   "source": [
    "test = data.iloc[int(total*0.8):]\n",
    "test.head()"
   ]
  },
  {
   "cell_type": "code",
   "execution_count": 38,
   "metadata": {},
   "outputs": [],
   "source": [
    "train_x = train[[\"total_dollars_scaled\", \"total_hours_scaled\", \"hourly_rate_scaled\"]]\n",
    "valid_x = test[[\"total_dollars_scaled\", \"total_hours_scaled\", \"hourly_rate_scaled\"]]\n",
    "\n",
    "# train_x = train[[\"total_dollars_scaled\"]]\n",
    "# valid_x = test[[\"total_dollars_scaled\"]]\n",
    "\n",
    "train_y_is_productive = train[[\"is_productive\"]]\n",
    "valid_y_is_productive = test.is_productive\n",
    "\n",
    "train_y_use_salaries = train[[\"use_salaries\"]]\n",
    "valid_y_use_salaries = test.use_salaries\n",
    "\n",
    "train_y_use_hours = train[[\"use_hours\"]]\n",
    "valid_y_use_hours = test.use_hours"
   ]
  },
  {
   "cell_type": "code",
   "execution_count": 39,
   "metadata": {
    "scrolled": true
   },
   "outputs": [
    {
     "data": {
      "text/html": [
       "<div>\n",
       "<style scoped>\n",
       "    .dataframe tbody tr th:only-of-type {\n",
       "        vertical-align: middle;\n",
       "    }\n",
       "\n",
       "    .dataframe tbody tr th {\n",
       "        vertical-align: top;\n",
       "    }\n",
       "\n",
       "    .dataframe thead th {\n",
       "        text-align: right;\n",
       "    }\n",
       "</style>\n",
       "<table border=\"1\" class=\"dataframe\">\n",
       "  <thead>\n",
       "    <tr style=\"text-align: right;\">\n",
       "      <th></th>\n",
       "      <th>total_dollars_scaled</th>\n",
       "      <th>total_hours_scaled</th>\n",
       "      <th>hourly_rate_scaled</th>\n",
       "    </tr>\n",
       "  </thead>\n",
       "  <tbody>\n",
       "    <tr>\n",
       "      <th>0</th>\n",
       "      <td>0.086697</td>\n",
       "      <td>0.092102</td>\n",
       "      <td>0.311850</td>\n",
       "    </tr>\n",
       "    <tr>\n",
       "      <th>1</th>\n",
       "      <td>0.009987</td>\n",
       "      <td>0.009415</td>\n",
       "      <td>0.311849</td>\n",
       "    </tr>\n",
       "    <tr>\n",
       "      <th>2</th>\n",
       "      <td>0.011251</td>\n",
       "      <td>0.010662</td>\n",
       "      <td>0.311850</td>\n",
       "    </tr>\n",
       "    <tr>\n",
       "      <th>3</th>\n",
       "      <td>0.014207</td>\n",
       "      <td>0.013737</td>\n",
       "      <td>0.311850</td>\n",
       "    </tr>\n",
       "    <tr>\n",
       "      <th>4</th>\n",
       "      <td>0.005412</td>\n",
       "      <td>0.004235</td>\n",
       "      <td>0.311846</td>\n",
       "    </tr>\n",
       "  </tbody>\n",
       "</table>\n",
       "</div>"
      ],
      "text/plain": [
       "   total_dollars_scaled  total_hours_scaled  hourly_rate_scaled\n",
       "0              0.086697            0.092102            0.311850\n",
       "1              0.009987            0.009415            0.311849\n",
       "2              0.011251            0.010662            0.311850\n",
       "3              0.014207            0.013737            0.311850\n",
       "4              0.005412            0.004235            0.311846"
      ]
     },
     "execution_count": 39,
     "metadata": {},
     "output_type": "execute_result"
    }
   ],
   "source": [
    "train_x.head()"
   ]
  },
  {
   "cell_type": "code",
   "execution_count": 40,
   "metadata": {},
   "outputs": [
    {
     "data": {
      "text/html": [
       "<div>\n",
       "<style scoped>\n",
       "    .dataframe tbody tr th:only-of-type {\n",
       "        vertical-align: middle;\n",
       "    }\n",
       "\n",
       "    .dataframe tbody tr th {\n",
       "        vertical-align: top;\n",
       "    }\n",
       "\n",
       "    .dataframe thead th {\n",
       "        text-align: right;\n",
       "    }\n",
       "</style>\n",
       "<table border=\"1\" class=\"dataframe\">\n",
       "  <thead>\n",
       "    <tr style=\"text-align: right;\">\n",
       "      <th></th>\n",
       "      <th>total_dollars_scaled</th>\n",
       "      <th>total_hours_scaled</th>\n",
       "      <th>hourly_rate_scaled</th>\n",
       "    </tr>\n",
       "  </thead>\n",
       "  <tbody>\n",
       "    <tr>\n",
       "      <th>49912</th>\n",
       "      <td>0.005415</td>\n",
       "      <td>0.004229</td>\n",
       "      <td>0.311828</td>\n",
       "    </tr>\n",
       "    <tr>\n",
       "      <th>49913</th>\n",
       "      <td>0.005418</td>\n",
       "      <td>0.004229</td>\n",
       "      <td>0.311828</td>\n",
       "    </tr>\n",
       "    <tr>\n",
       "      <th>49914</th>\n",
       "      <td>0.005415</td>\n",
       "      <td>0.004229</td>\n",
       "      <td>0.311828</td>\n",
       "    </tr>\n",
       "    <tr>\n",
       "      <th>49915</th>\n",
       "      <td>0.005441</td>\n",
       "      <td>0.004229</td>\n",
       "      <td>0.311828</td>\n",
       "    </tr>\n",
       "    <tr>\n",
       "      <th>49916</th>\n",
       "      <td>0.005423</td>\n",
       "      <td>0.004229</td>\n",
       "      <td>0.311828</td>\n",
       "    </tr>\n",
       "  </tbody>\n",
       "</table>\n",
       "</div>"
      ],
      "text/plain": [
       "       total_dollars_scaled  total_hours_scaled  hourly_rate_scaled\n",
       "49912              0.005415            0.004229            0.311828\n",
       "49913              0.005418            0.004229            0.311828\n",
       "49914              0.005415            0.004229            0.311828\n",
       "49915              0.005441            0.004229            0.311828\n",
       "49916              0.005423            0.004229            0.311828"
      ]
     },
     "execution_count": 40,
     "metadata": {},
     "output_type": "execute_result"
    }
   ],
   "source": [
    "valid_x.head()"
   ]
  },
  {
   "cell_type": "code",
   "execution_count": 41,
   "metadata": {
    "scrolled": true
   },
   "outputs": [
    {
     "data": {
      "text/plain": [
       "pandas.core.series.Series"
      ]
     },
     "execution_count": 41,
     "metadata": {},
     "output_type": "execute_result"
    }
   ],
   "source": [
    "type(train.is_productive)"
   ]
  },
  {
   "cell_type": "markdown",
   "metadata": {},
   "source": [
    "<h2 style=\"color:green\"> Multi-Layer Perceptron (Neural Network) </h2> "
   ]
  },
  {
   "cell_type": "code",
   "execution_count": 42,
   "metadata": {},
   "outputs": [
    {
     "name": "stdout",
     "output_type": "stream",
     "text": [
      "WARNING:tensorflow:From /Users/changyuyan/anaconda3/lib/python3.7/site-packages/tensorflow/python/ops/init_ops.py:1251: calling VarianceScaling.__init__ (from tensorflow.python.ops.init_ops) with dtype is deprecated and will be removed in a future version.\n",
      "Instructions for updating:\n",
      "Call initializer instance with the dtype argument instead of passing it to the constructor\n"
     ]
    }
   ],
   "source": [
    "model = keras.Sequential([\n",
    "    # keras.layers.Dense(10, input_dim = 3, kernel_initializer ='normal', activation='relu', kernel_regularizer = keras.regularizers.l2(2)),\n",
    "    \n",
    "    keras.layers.Dense(10, input_dim = 3, activation='softmax'),            \n",
    "    keras.layers.Dense(1000),\n",
    "    keras.layers.Dense(1000),\n",
    "    keras.layers.Dense(1, activation='softmax'),\n",
    "])"
   ]
  },
  {
   "cell_type": "code",
   "execution_count": 43,
   "metadata": {
    "scrolled": false
   },
   "outputs": [
    {
     "name": "stdout",
     "output_type": "stream",
     "text": [
      "WARNING:tensorflow:From /Users/changyuyan/anaconda3/lib/python3.7/site-packages/tensorflow/python/keras/optimizer_v2/adagrad.py:105: calling Constant.__init__ (from tensorflow.python.ops.init_ops) with dtype is deprecated and will be removed in a future version.\n",
      "Instructions for updating:\n",
      "Call initializer instance with the dtype argument instead of passing it to the constructor\n",
      "Epoch 1/5\n",
      "49912/49912 [==============================] - 4s 74us/sample - loss: 0.4969\n",
      "Epoch 2/5\n",
      "49912/49912 [==============================] - 3s 65us/sample - loss: 0.4969\n",
      "Epoch 3/5\n",
      "49912/49912 [==============================] - 3s 66us/sample - loss: 0.4969\n",
      "Epoch 4/5\n",
      "49912/49912 [==============================] - 3s 66us/sample - loss: 0.4969\n",
      "Epoch 5/5\n",
      "49912/49912 [==============================] - 3s 65us/sample - loss: 0.4969\n"
     ]
    },
    {
     "data": {
      "text/plain": [
       "<tensorflow.python.keras.callbacks.History at 0x1a31957ac8>"
      ]
     },
     "execution_count": 43,
     "metadata": {},
     "output_type": "execute_result"
    }
   ],
   "source": [
    "optimizer = keras.optimizers.Adagrad(lr = 1)\n",
    "model.compile(optimizer = optimizer, loss='MSE')\n",
    "\n",
    "model.fit(train_x, train_y_is_productive, epochs = 5, batch_size = 1000)"
   ]
  },
  {
   "cell_type": "markdown",
   "metadata": {},
   "source": [
    "The loss barely changes. "
   ]
  },
  {
   "cell_type": "code",
   "execution_count": 44,
   "metadata": {},
   "outputs": [],
   "source": [
    "predictions = model.predict(valid_x)"
   ]
  },
  {
   "cell_type": "code",
   "execution_count": 45,
   "metadata": {},
   "outputs": [
    {
     "data": {
      "text/plain": [
       "array([[1.],\n",
       "       [1.],\n",
       "       [1.],\n",
       "       [1.],\n",
       "       [1.],\n",
       "       [1.],\n",
       "       [1.],\n",
       "       [1.],\n",
       "       [1.],\n",
       "       [1.]], dtype=float32)"
      ]
     },
     "execution_count": 45,
     "metadata": {},
     "output_type": "execute_result"
    }
   ],
   "source": [
    "predictions[:10]"
   ]
  },
  {
   "cell_type": "code",
   "execution_count": 46,
   "metadata": {
    "scrolled": true
   },
   "outputs": [
    {
     "data": {
      "text/plain": [
       "12479"
      ]
     },
     "execution_count": 46,
     "metadata": {},
     "output_type": "execute_result"
    }
   ],
   "source": [
    "len(predictions)"
   ]
  },
  {
   "cell_type": "code",
   "execution_count": 47,
   "metadata": {
    "scrolled": false
   },
   "outputs": [],
   "source": [
    "predictions = predictions.reshape((len(predictions), ))\n",
    "valid_y_is_productive = list(valid_y_is_productive)"
   ]
  },
  {
   "cell_type": "code",
   "execution_count": 48,
   "metadata": {},
   "outputs": [
    {
     "name": "stdout",
     "output_type": "stream",
     "text": [
      "0.44130138632903276\n"
     ]
    }
   ],
   "source": [
    "count = 0\n",
    "temp = len(predictions)\n",
    "for i in range(temp):\n",
    "    if predictions[i] == valid_y_is_productive[i]:\n",
    "        count += 1\n",
    "print(count / temp)"
   ]
  },
  {
   "cell_type": "markdown",
   "metadata": {},
   "source": [
    "The Multi-Layer Perceptron model ended up giving us all '1's... Probably not a very good model. "
   ]
  },
  {
   "cell_type": "markdown",
   "metadata": {},
   "source": [
    "<h2 style=\"color:green\"> Multilinear Regression</h2>"
   ]
  },
  {
   "cell_type": "code",
   "execution_count": 49,
   "metadata": {},
   "outputs": [],
   "source": [
    "from sklearn.linear_model import LinearRegression"
   ]
  },
  {
   "cell_type": "code",
   "execution_count": 50,
   "metadata": {},
   "outputs": [],
   "source": [
    "reg = LinearRegression().fit(train_x, train_y_is_productive)"
   ]
  },
  {
   "cell_type": "code",
   "execution_count": 51,
   "metadata": {},
   "outputs": [
    {
     "name": "stdout",
     "output_type": "stream",
     "text": [
      "Train regression score:  0.00474400804025088\n"
     ]
    }
   ],
   "source": [
    "print(\"Train regression score: \", str(reg.score(train_x, train_y_is_productive)))"
   ]
  },
  {
   "cell_type": "markdown",
   "metadata": {},
   "source": [
    "The train regression score is so low already. Multilinear Regression is probably really bad too. "
   ]
  },
  {
   "cell_type": "markdown",
   "metadata": {},
   "source": [
    "<h2 style=\"color:green\"> Random Forest</h2>"
   ]
  },
  {
   "cell_type": "code",
   "execution_count": 52,
   "metadata": {},
   "outputs": [],
   "source": [
    "from sklearn.ensemble import RandomForestRegressor"
   ]
  },
  {
   "cell_type": "code",
   "execution_count": 53,
   "metadata": {},
   "outputs": [],
   "source": [
    "rf = RandomForestRegressor(max_depth = 90, random_state = 0, n_estimators = 50)"
   ]
  },
  {
   "cell_type": "code",
   "execution_count": 54,
   "metadata": {},
   "outputs": [
    {
     "name": "stderr",
     "output_type": "stream",
     "text": [
      "/Users/changyuyan/anaconda3/lib/python3.7/site-packages/ipykernel_launcher.py:1: DataConversionWarning: A column-vector y was passed when a 1d array was expected. Please change the shape of y to (n_samples,), for example using ravel().\n",
      "  \"\"\"Entry point for launching an IPython kernel.\n"
     ]
    },
    {
     "data": {
      "text/plain": [
       "RandomForestRegressor(bootstrap=True, criterion='mse', max_depth=90,\n",
       "                      max_features='auto', max_leaf_nodes=None,\n",
       "                      min_impurity_decrease=0.0, min_impurity_split=None,\n",
       "                      min_samples_leaf=1, min_samples_split=2,\n",
       "                      min_weight_fraction_leaf=0.0, n_estimators=50,\n",
       "                      n_jobs=None, oob_score=False, random_state=0, verbose=0,\n",
       "                      warm_start=False)"
      ]
     },
     "execution_count": 54,
     "metadata": {},
     "output_type": "execute_result"
    }
   ],
   "source": [
    "rf.fit(train_x, train_y_use_hours)"
   ]
  },
  {
   "cell_type": "code",
   "execution_count": 55,
   "metadata": {},
   "outputs": [],
   "source": [
    "pred = rf.predict(valid_x)\n",
    "train_pred = rf.predict(train_x)\n",
    "\n",
    "pred = pred.reshape((len(pred), ))\n",
    "train_pred = train_pred.reshape((len(train_pred), ))\n",
    "\n",
    "pred = [round(x) for x in pred]\n",
    "train_pred = [round(x) for x in train_pred]"
   ]
  },
  {
   "cell_type": "code",
   "execution_count": 56,
   "metadata": {
    "scrolled": false
   },
   "outputs": [
    {
     "data": {
      "text/plain": [
       "5578.0"
      ]
     },
     "execution_count": 56,
     "metadata": {},
     "output_type": "execute_result"
    }
   ],
   "source": [
    "sum(pred)"
   ]
  },
  {
   "cell_type": "code",
   "execution_count": 57,
   "metadata": {},
   "outputs": [
    {
     "name": "stdout",
     "output_type": "stream",
     "text": [
      "0.8532734994791249\n"
     ]
    }
   ],
   "source": [
    "count = 0\n",
    "vy = list(valid_y_use_hours)\n",
    "for i in range(temp):\n",
    "    if pred[i] == vy[i]:\n",
    "        count += 1\n",
    "print(count / temp)"
   ]
  },
  {
   "cell_type": "code",
   "execution_count": 58,
   "metadata": {},
   "outputs": [
    {
     "name": "stdout",
     "output_type": "stream",
     "text": [
      "0.9131271037025164\n"
     ]
    }
   ],
   "source": [
    "count = 0\n",
    "for i in range(len(train_pred)):\n",
    "    if train_pred[i] == train_y_use_hours.use_hours[i]:\n",
    "        count += 1\n",
    "print(count / len(train_pred))"
   ]
  },
  {
   "cell_type": "code",
   "execution_count": 59,
   "metadata": {},
   "outputs": [],
   "source": [
    "import pickle"
   ]
  },
  {
   "cell_type": "code",
   "execution_count": 60,
   "metadata": {},
   "outputs": [
    {
     "data": {
      "text/plain": [
       "'/Users/changyuyan/Developer/Paytype-Classifier/Modeling'"
      ]
     },
     "execution_count": 60,
     "metadata": {},
     "output_type": "execute_result"
    }
   ],
   "source": [
    "pwd"
   ]
  },
  {
   "cell_type": "code",
   "execution_count": 61,
   "metadata": {},
   "outputs": [
    {
     "name": "stdout",
     "output_type": "stream",
     "text": [
      "/Users/changyuyan/Developer/Paytype-Classifier/Flask/models\n"
     ]
    }
   ],
   "source": [
    "cd ../Flask/models"
   ]
  },
  {
   "cell_type": "code",
   "execution_count": 62,
   "metadata": {},
   "outputs": [],
   "source": [
    "!touch RandomForest.pkl"
   ]
  },
  {
   "cell_type": "code",
   "execution_count": 71,
   "metadata": {
    "scrolled": false
   },
   "outputs": [
    {
     "name": "stdout",
     "output_type": "stream",
     "text": [
      "/Users/changyuyan/Developer/Paytype-Classifier/Modeling\n"
     ]
    }
   ],
   "source": [
    "cd /Users/changyuyan/Developer/Paytype-Classifier/Modeling"
   ]
  },
  {
   "cell_type": "code",
   "execution_count": 74,
   "metadata": {},
   "outputs": [
    {
     "name": "stdout",
     "output_type": "stream",
     "text": [
      "RandomForest.pkl\r\n"
     ]
    }
   ],
   "source": [
    "ls ../Flask/models"
   ]
  },
  {
   "cell_type": "code",
   "execution_count": 75,
   "metadata": {},
   "outputs": [],
   "source": [
    "# save the model to disk\n",
    "pickle.dump(rf, open('../Flask/models/RandomForest.pkl', 'wb'))"
   ]
  },
  {
   "cell_type": "code",
   "execution_count": 77,
   "metadata": {},
   "outputs": [
    {
     "name": "stdout",
     "output_type": "stream",
     "text": [
      "0.8532734994791249\n"
     ]
    }
   ],
   "source": [
    "# Test if load works\n",
    "\n",
    "rf_model = open(\"../Flask/models/RandomForest.pkl\",\"rb\")\n",
    "rf = pickle.load(rf_model)\n",
    "\n",
    "pred = rf.predict(valid_x)\n",
    "train_pred = rf.predict(train_x)\n",
    "\n",
    "pred = pred.reshape((len(pred), ))\n",
    "train_pred = train_pred.reshape((len(train_pred), ))\n",
    "\n",
    "pred = [round(x) for x in pred]\n",
    "train_pred = [round(x) for x in train_pred]\n",
    "\n",
    "count = 0\n",
    "vy = list(valid_y_use_hours)\n",
    "for i in range(temp):\n",
    "    if pred[i] == vy[i]:\n",
    "        count += 1\n",
    "print(count / temp)"
   ]
  },
  {
   "cell_type": "code",
   "execution_count": 78,
   "metadata": {},
   "outputs": [],
   "source": [
    "entered = np.array([12, 123, 123])\n",
    "entered = entered.reshape((1, -1))"
   ]
  },
  {
   "cell_type": "code",
   "execution_count": 79,
   "metadata": {
    "scrolled": true
   },
   "outputs": [
    {
     "data": {
      "text/plain": [
       "0.98"
      ]
     },
     "execution_count": 79,
     "metadata": {},
     "output_type": "execute_result"
    }
   ],
   "source": [
    "rf.predict(entered)[0]"
   ]
  },
  {
   "cell_type": "code",
   "execution_count": null,
   "metadata": {},
   "outputs": [],
   "source": []
  }
 ],
 "metadata": {
  "kernelspec": {
   "display_name": "Python 3",
   "language": "python",
   "name": "python3"
  },
  "language_info": {
   "codemirror_mode": {
    "name": "ipython",
    "version": 3
   },
   "file_extension": ".py",
   "mimetype": "text/x-python",
   "name": "python",
   "nbconvert_exporter": "python",
   "pygments_lexer": "ipython3",
   "version": "3.7.3"
  }
 },
 "nbformat": 4,
 "nbformat_minor": 2
}
