{
 "cells": [
  {
   "cell_type": "code",
   "execution_count": 18,
   "metadata": {},
   "outputs": [],
   "source": [
    "import pandas as pd\n",
    "import numpy as np\n",
    "import pickle"
   ]
  },
  {
   "cell_type": "code",
   "execution_count": 40,
   "metadata": {
    "scrolled": true
   },
   "outputs": [
    {
     "data": {
      "text/html": [
       "<div>\n",
       "<style scoped>\n",
       "    .dataframe tbody tr th:only-of-type {\n",
       "        vertical-align: middle;\n",
       "    }\n",
       "\n",
       "    .dataframe tbody tr th {\n",
       "        vertical-align: top;\n",
       "    }\n",
       "\n",
       "    .dataframe thead th {\n",
       "        text-align: right;\n",
       "    }\n",
       "</style>\n",
       "<table border=\"1\" class=\"dataframe\">\n",
       "  <thead>\n",
       "    <tr style=\"text-align: right;\">\n",
       "      <th></th>\n",
       "      <th>pay_type_description</th>\n",
       "      <th>total_dollars</th>\n",
       "      <th>total_hours</th>\n",
       "      <th>hourly_rate</th>\n",
       "    </tr>\n",
       "  </thead>\n",
       "  <tbody>\n",
       "    <tr>\n",
       "      <th>0</th>\n",
       "      <td>Paid Administrative Leave</td>\n",
       "      <td>45310.88</td>\n",
       "      <td>1257.86</td>\n",
       "      <td>36.022196</td>\n",
       "    </tr>\n",
       "    <tr>\n",
       "      <th>1</th>\n",
       "      <td>NaN</td>\n",
       "      <td>74601.36</td>\n",
       "      <td>3110.97</td>\n",
       "      <td>23.980096</td>\n",
       "    </tr>\n",
       "    <tr>\n",
       "      <th>2</th>\n",
       "      <td>Orient Red Reg</td>\n",
       "      <td>7482.63</td>\n",
       "      <td>149.00</td>\n",
       "      <td>50.218993</td>\n",
       "    </tr>\n",
       "    <tr>\n",
       "      <th>3</th>\n",
       "      <td>Holiday Worked Shift 10%</td>\n",
       "      <td>477505.04</td>\n",
       "      <td>7589.31</td>\n",
       "      <td>62.918110</td>\n",
       "    </tr>\n",
       "    <tr>\n",
       "      <th>4</th>\n",
       "      <td>NaN</td>\n",
       "      <td>44700.53</td>\n",
       "      <td>5959.99</td>\n",
       "      <td>7.500102</td>\n",
       "    </tr>\n",
       "  </tbody>\n",
       "</table>\n",
       "</div>"
      ],
      "text/plain": [
       "        pay_type_description  total_dollars  total_hours  hourly_rate\n",
       "0  Paid Administrative Leave       45310.88      1257.86    36.022196\n",
       "1                        NaN       74601.36      3110.97    23.980096\n",
       "2             Orient Red Reg        7482.63       149.00    50.218993\n",
       "3   Holiday Worked Shift 10%      477505.04      7589.31    62.918110\n",
       "4                        NaN       44700.53      5959.99     7.500102"
      ]
     },
     "execution_count": 40,
     "metadata": {},
     "output_type": "execute_result"
    }
   ],
   "source": [
    "data = pd.read_excel('~/Desktop/test.xlsx')\n",
    "data.head()"
   ]
  },
  {
   "cell_type": "code",
   "execution_count": 41,
   "metadata": {},
   "outputs": [
    {
     "data": {
      "text/plain": [
       "True"
      ]
     },
     "execution_count": 41,
     "metadata": {},
     "output_type": "execute_result"
    }
   ],
   "source": [
    "list(data.columns) == ['pay_type_description', 'total_dollars', 'total_hours', 'hourly_rate']"
   ]
  },
  {
   "cell_type": "code",
   "execution_count": 11,
   "metadata": {
    "scrolled": true
   },
   "outputs": [
    {
     "data": {
      "text/plain": [
       "12479"
      ]
     },
     "execution_count": 11,
     "metadata": {},
     "output_type": "execute_result"
    }
   ],
   "source": [
    "len(data)"
   ]
  },
  {
   "cell_type": "code",
   "execution_count": 7,
   "metadata": {},
   "outputs": [],
   "source": [
    "# Loading our ML Model\n",
    "rf_use_hours = pickle.load(open(\"models/RandomForest_use_hours.pkl\", \"rb\"))\n",
    "rf_use_salaries = pickle.load(open(\"models/RandomForest_use_salaries.pkl\", \"rb\"))\n",
    "rf_is_productive = pickle.load(open(\"models/RandomForest_is_productive.pkl\", \"rb\"))\n",
    "\n",
    "# Loading the String Classifier\n",
    "string_classifier = pickle.load(open(\"models/string_classifier.pkl\", \"rb\"))"
   ]
  },
  {
   "cell_type": "code",
   "execution_count": 27,
   "metadata": {},
   "outputs": [],
   "source": [
    "# Initialize Results\n",
    "use_hours = []\n",
    "use_salaries = []\n",
    "is_productive = []"
   ]
  },
  {
   "cell_type": "code",
   "execution_count": 28,
   "metadata": {},
   "outputs": [],
   "source": [
    "for index, row in data.iterrows():\n",
    "    pay_type_description = str(row.pay_type_description).upper()\n",
    "    \n",
    "    if pay_type_description in string_classifier:\n",
    "        info = string_classifier[pay_type_description]\n",
    "        use_hours.append(info[\"use_hours\"])\n",
    "        use_salaries.append(info[\"use_salaries\"])\n",
    "        is_productive.append(info[\"is_productive\"])\n",
    "        \n",
    "    else: \n",
    "        \n",
    "        total_dollars = row.total_dollars\n",
    "        total_hours = row.total_hours\n",
    "        hourly_rate = row.hourly_rate\n",
    "        \n",
    "        features = np.array([total_dollars, total_hours, hourly_rate]) \n",
    "        features = features.reshape((1, -1))\n",
    "        \n",
    "        use_hours.append(round(rf_use_hours.predict(features)[0]))\n",
    "        use_salaries.append(round(rf_use_salaries.predict(features)[0]))\n",
    "        is_productive.append(round(rf_is_productive.predict(features)[0]))"
   ]
  },
  {
   "cell_type": "code",
   "execution_count": 32,
   "metadata": {},
   "outputs": [],
   "source": [
    "data[\"use_hours\"] = use_hours\n",
    "data[\"use_salaries\"] = use_salaries\n",
    "data[\"is_productive\"] = is_productive"
   ]
  },
  {
   "cell_type": "code",
   "execution_count": 33,
   "metadata": {
    "scrolled": true
   },
   "outputs": [
    {
     "data": {
      "text/html": [
       "<div>\n",
       "<style scoped>\n",
       "    .dataframe tbody tr th:only-of-type {\n",
       "        vertical-align: middle;\n",
       "    }\n",
       "\n",
       "    .dataframe tbody tr th {\n",
       "        vertical-align: top;\n",
       "    }\n",
       "\n",
       "    .dataframe thead th {\n",
       "        text-align: right;\n",
       "    }\n",
       "</style>\n",
       "<table border=\"1\" class=\"dataframe\">\n",
       "  <thead>\n",
       "    <tr style=\"text-align: right;\">\n",
       "      <th></th>\n",
       "      <th>pay_type_description</th>\n",
       "      <th>total_dollars</th>\n",
       "      <th>total_hours</th>\n",
       "      <th>hourly_rate</th>\n",
       "      <th>use_hours</th>\n",
       "      <th>use_salaries</th>\n",
       "      <th>is_productive</th>\n",
       "    </tr>\n",
       "  </thead>\n",
       "  <tbody>\n",
       "    <tr>\n",
       "      <th>0</th>\n",
       "      <td>Paid Administrative Leave</td>\n",
       "      <td>45310.88</td>\n",
       "      <td>1257.86</td>\n",
       "      <td>36.022196</td>\n",
       "      <td>1.0</td>\n",
       "      <td>1.0</td>\n",
       "      <td>1.0</td>\n",
       "    </tr>\n",
       "    <tr>\n",
       "      <th>1</th>\n",
       "      <td>NaN</td>\n",
       "      <td>74601.36</td>\n",
       "      <td>3110.97</td>\n",
       "      <td>23.980096</td>\n",
       "      <td>1.0</td>\n",
       "      <td>1.0</td>\n",
       "      <td>1.0</td>\n",
       "    </tr>\n",
       "    <tr>\n",
       "      <th>2</th>\n",
       "      <td>Orient Red Reg</td>\n",
       "      <td>7482.63</td>\n",
       "      <td>149.00</td>\n",
       "      <td>50.218993</td>\n",
       "      <td>1.0</td>\n",
       "      <td>1.0</td>\n",
       "      <td>1.0</td>\n",
       "    </tr>\n",
       "    <tr>\n",
       "      <th>3</th>\n",
       "      <td>Holiday Worked Shift 10%</td>\n",
       "      <td>477505.04</td>\n",
       "      <td>7589.31</td>\n",
       "      <td>62.918110</td>\n",
       "      <td>1.0</td>\n",
       "      <td>1.0</td>\n",
       "      <td>1.0</td>\n",
       "    </tr>\n",
       "    <tr>\n",
       "      <th>4</th>\n",
       "      <td>NaN</td>\n",
       "      <td>44700.53</td>\n",
       "      <td>5959.99</td>\n",
       "      <td>7.500102</td>\n",
       "      <td>0.0</td>\n",
       "      <td>1.0</td>\n",
       "      <td>1.0</td>\n",
       "    </tr>\n",
       "  </tbody>\n",
       "</table>\n",
       "</div>"
      ],
      "text/plain": [
       "        pay_type_description  total_dollars  total_hours  hourly_rate  \\\n",
       "0  Paid Administrative Leave       45310.88      1257.86    36.022196   \n",
       "1                        NaN       74601.36      3110.97    23.980096   \n",
       "2             Orient Red Reg        7482.63       149.00    50.218993   \n",
       "3   Holiday Worked Shift 10%      477505.04      7589.31    62.918110   \n",
       "4                        NaN       44700.53      5959.99     7.500102   \n",
       "\n",
       "   use_hours  use_salaries  is_productive  \n",
       "0        1.0           1.0            1.0  \n",
       "1        1.0           1.0            1.0  \n",
       "2        1.0           1.0            1.0  \n",
       "3        1.0           1.0            1.0  \n",
       "4        0.0           1.0            1.0  "
      ]
     },
     "execution_count": 33,
     "metadata": {},
     "output_type": "execute_result"
    }
   ],
   "source": [
    "data.head()"
   ]
  },
  {
   "cell_type": "code",
   "execution_count": 34,
   "metadata": {},
   "outputs": [],
   "source": [
    "data.to_excel(\"~/Desktop/result.xlsx\")"
   ]
  },
  {
   "cell_type": "code",
   "execution_count": null,
   "metadata": {},
   "outputs": [],
   "source": []
  }
 ],
 "metadata": {
  "kernelspec": {
   "display_name": "Python 3",
   "language": "python",
   "name": "python3"
  },
  "language_info": {
   "codemirror_mode": {
    "name": "ipython",
    "version": 3
   },
   "file_extension": ".py",
   "mimetype": "text/x-python",
   "name": "python",
   "nbconvert_exporter": "python",
   "pygments_lexer": "ipython3",
   "version": "3.7.3"
  }
 },
 "nbformat": 4,
 "nbformat_minor": 2
}
